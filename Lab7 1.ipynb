{
  "cells": [
    {
      "cell_type": "code",
      "source": [
        "from keras.datasets import imdb\n",
        "(train_data, train_labels), (test_data, test_labels) = imdb.load_data(num_words=10000)"
      ],
      "metadata": {
        "id": "cvCqZWObf63_"
      },
      "execution_count": 15,
      "outputs": []
    },
    {
      "cell_type": "code",
      "source": [
        "# one-hot encode\n",
        "\n",
        "def one_hot_encode(sequences, dimension=10000):\n",
        "    results = np.zeros((len(sequences), dimension))\n",
        "    for i, sequence in enumerate(sequences):\n",
        "        results[i, sequence] = 1.\n",
        "    return results"
      ],
      "metadata": {
        "id": "BdvYCaD343UI"
      },
      "execution_count": 16,
      "outputs": []
    },
    {
      "cell_type": "code",
      "source": [
        "import numpy as np\n",
        "x_train = one_hot_encode(train_data)\n",
        "x_test = one_hot_encode(test_data)\n",
        "\n",
        "y_train = np.asarray(train_labels).astype('float32')\n",
        "y_test = np.asarray(test_labels).astype('float32')"
      ],
      "metadata": {
        "id": "if9hSxpKgC0H"
      },
      "execution_count": 17,
      "outputs": []
    },
    {
      "cell_type": "code",
      "source": [
        "x_val = x_train[:10000]\n",
        "partial_x_train = x_train[10000:]\n",
        "y_val = y_train[:10000]\n",
        "partial_y_train = y_train[10000:]"
      ],
      "metadata": {
        "id": "pb4SbpcS6KqK"
      },
      "execution_count": 18,
      "outputs": []
    },
    {
      "cell_type": "code",
      "source": [
        "from keras import models, layers\n",
        "from keras.models import Sequential\n",
        "from keras.layers import Dense\n",
        "\n",
        "model = models.Sequential()\n",
        "model.add(layers.Dense(16, activation='relu', input_shape=(10000,)))\n",
        "model.add(layers.Dense(16, activation='relu'))\n",
        "model.add(layers.Dense(1, activation='sigmoid'))\n",
        "\n",
        "model.summary()"
      ],
      "metadata": {
        "colab": {
          "base_uri": "https://localhost:8080/"
        },
        "id": "PTbDXBra5j58",
        "outputId": "e3ccf308-5547-4e65-bc96-695f238afb9f"
      },
      "execution_count": 19,
      "outputs": [
        {
          "output_type": "stream",
          "name": "stdout",
          "text": [
            "Model: \"sequential_1\"\n",
            "_________________________________________________________________\n",
            " Layer (type)                Output Shape              Param #   \n",
            "=================================================================\n",
            " dense_3 (Dense)             (None, 16)                160016    \n",
            "                                                                 \n",
            " dense_4 (Dense)             (None, 16)                272       \n",
            "                                                                 \n",
            " dense_5 (Dense)             (None, 1)                 17        \n",
            "                                                                 \n",
            "=================================================================\n",
            "Total params: 160,305\n",
            "Trainable params: 160,305\n",
            "Non-trainable params: 0\n",
            "_________________________________________________________________\n"
          ]
        }
      ]
    },
    {
      "cell_type": "code",
      "source": [
        "NumEpochs = 10\n",
        "BatchSize = 512\n",
        "\n",
        "model.compile(optimizer='adam', loss='binary_crossentropy', metrics=['acc'])\n",
        "\n",
        "history = model.fit(partial_x_train, partial_y_train, epochs=NumEpochs, batch_size=BatchSize, validation_data=(x_val, y_val))"
      ],
      "metadata": {
        "colab": {
          "base_uri": "https://localhost:8080/"
        },
        "id": "zaKWmH1c58ri",
        "outputId": "67f680df-2d7e-44e7-b009-df8b2c27374c"
      },
      "execution_count": 20,
      "outputs": [
        {
          "output_type": "stream",
          "name": "stdout",
          "text": [
            "Epoch 1/10\n",
            "30/30 [==============================] - 3s 88ms/step - loss: 0.5343 - acc: 0.7737 - val_loss: 0.3855 - val_acc: 0.8586\n",
            "Epoch 2/10\n",
            "30/30 [==============================] - 1s 41ms/step - loss: 0.2866 - acc: 0.9036 - val_loss: 0.2917 - val_acc: 0.8874\n",
            "Epoch 3/10\n",
            "30/30 [==============================] - 1s 36ms/step - loss: 0.1956 - acc: 0.9360 - val_loss: 0.2758 - val_acc: 0.8897\n",
            "Epoch 4/10\n",
            "30/30 [==============================] - 1s 39ms/step - loss: 0.1454 - acc: 0.9549 - val_loss: 0.2823 - val_acc: 0.8868\n",
            "Epoch 5/10\n",
            "30/30 [==============================] - 1s 39ms/step - loss: 0.1109 - acc: 0.9685 - val_loss: 0.2981 - val_acc: 0.8836\n",
            "Epoch 6/10\n",
            "30/30 [==============================] - 1s 49ms/step - loss: 0.0845 - acc: 0.9789 - val_loss: 0.3225 - val_acc: 0.8806\n",
            "Epoch 7/10\n",
            "30/30 [==============================] - 1s 39ms/step - loss: 0.0641 - acc: 0.9863 - val_loss: 0.3489 - val_acc: 0.8773\n",
            "Epoch 8/10\n",
            "30/30 [==============================] - 1s 40ms/step - loss: 0.0481 - acc: 0.9919 - val_loss: 0.3761 - val_acc: 0.8782\n",
            "Epoch 9/10\n",
            "30/30 [==============================] - 1s 39ms/step - loss: 0.0352 - acc: 0.9951 - val_loss: 0.4050 - val_acc: 0.8762\n",
            "Epoch 10/10\n",
            "30/30 [==============================] - 2s 55ms/step - loss: 0.0260 - acc: 0.9977 - val_loss: 0.4350 - val_acc: 0.8764\n"
          ]
        }
      ]
    },
    {
      "cell_type": "code",
      "source": [
        "results = model.evaluate(x_test, y_test)\n",
        "print(\"results \", results[1])"
      ],
      "metadata": {
        "colab": {
          "base_uri": "https://localhost:8080/"
        },
        "id": "HkE3306E6lYj",
        "outputId": "a1ad5018-5b96-4d67-affd-00345c1c5389"
      },
      "execution_count": 21,
      "outputs": [
        {
          "output_type": "stream",
          "name": "stdout",
          "text": [
            "782/782 [==============================] - 2s 3ms/step - loss: 0.4694 - acc: 0.8626\n",
            "results  0.8626000285148621\n"
          ]
        }
      ]
    }
  ],
  "metadata": {
    "kernelspec": {
      "display_name": "Python 3 (ipykernel)",
      "language": "python",
      "name": "python3"
    },
    "language_info": {
      "codemirror_mode": {
        "name": "ipython",
        "version": 3
      },
      "file_extension": ".py",
      "mimetype": "text/x-python",
      "name": "python",
      "nbconvert_exporter": "python",
      "pygments_lexer": "ipython3",
      "version": "3.9.7"
    },
    "colab": {
      "provenance": []
    }
  },
  "nbformat": 4,
  "nbformat_minor": 0
}