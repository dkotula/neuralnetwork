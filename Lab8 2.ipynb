{
  "cells": [
    {
      "cell_type": "code",
      "source": [
        "from keras.datasets import imdb\n",
        "(x_train, y_train), (x_test, y_test) = imdb.load_data(num_words=10000)"
      ],
      "metadata": {
        "id": "cvCqZWObf63_"
      },
      "execution_count": null,
      "outputs": []
    },
    {
      "cell_type": "code",
      "source": [
        "from keras.utils import pad_sequences\n",
        "\n",
        "padded_inputs = pad_sequences(x_train, maxlen=200, value = 0.0) # 0.0 because it corresponds with <PAD>\n",
        "padded_inputs_test = pad_sequences(x_test, maxlen=200, value = 0.0) # 0.0 because it corresponds with <PAD>"
      ],
      "metadata": {
        "id": "if9hSxpKgC0H"
      },
      "execution_count": null,
      "outputs": []
    },
    {
      "cell_type": "code",
      "source": [
        "import numpy as np\n",
        "\n",
        "# Obtain 3 texts\n",
        "for i in np.random.randint(0, len(padded_inputs), 3):\n",
        "  INDEX_FROM=3   # word index offset\n",
        "  word_to_id = imdb.get_word_index()\n",
        "  word_to_id = {k:(v+INDEX_FROM) for k,v in word_to_id.items()}\n",
        "  word_to_id[\"<PAD>\"] = 0\n",
        "  word_to_id[\"<START>\"] = 1\n",
        "  word_to_id[\"<UNK>\"] = 2\n",
        "  word_to_id[\"<UNUSED>\"] = 3\n",
        "\n",
        "  id_to_word = {value:key for key,value in word_to_id.items()}\n",
        "  print('=================================================')\n",
        "  print(f'Sample = {i} | Length = {len(padded_inputs[i])}')\n",
        "  print('=================================================')\n",
        "  print(' '.join(id_to_word[id] for id in padded_inputs[i] ))"
      ],
      "metadata": {
        "colab": {
          "base_uri": "https://localhost:8080/"
        },
        "id": "4spLceno3fDA",
        "outputId": "32b7d2fe-19f5-4dad-9088-46ec2ab0daa4"
      },
      "execution_count": null,
      "outputs": [
        {
          "output_type": "stream",
          "name": "stdout",
          "text": [
            "Downloading data from https://storage.googleapis.com/tensorflow/tf-keras-datasets/imdb_word_index.json\n",
            "1641221/1641221 [==============================] - 1s 0us/step\n",
            "=================================================\n",
            "Sample = 5079 | Length = 200\n",
            "=================================================\n",
            "rogers sings the catchy let yourself go and later does a solo tap dance to the same tune br br the three <UNK> really save the film even though they're all <UNK> into the plot with silly excuses fred and ginger win a dance contest by doing an energetic routine to another <UNK> of let yourself go later they sing and dance i'm putting all my eggs in one basket as if it were an early rehearsal of the number <UNK> the choreography to comic effect at the end the movie finally figures out how to get fred and ginger in evening clothes for a romantic <UNK> it makes it part of a show within the show the situation is contrived but the song let's face the music and dance is one of the most <UNK> beautiful things berlin ever wrote it's reminiscent of cole porter and the dancing matches it in <UNK> quintessential astaire and rogers br br it would be a chore to sit through most of the dialogue sections of follow the fleet again and in fact it's not necessary because the plot rarely <UNK> the musical numbers but i could watch the songs over and over\n",
            "=================================================\n",
            "Sample = 9178 | Length = 200\n",
            "=================================================\n",
            "<PAD> <PAD> <PAD> <PAD> <PAD> <PAD> <PAD> <PAD> <PAD> <PAD> <PAD> <PAD> <PAD> <PAD> <PAD> <PAD> <PAD> <PAD> <PAD> <PAD> <PAD> <PAD> <PAD> <PAD> <PAD> <PAD> <PAD> <PAD> <PAD> <PAD> <PAD> <PAD> <PAD> <PAD> <PAD> <PAD> <PAD> <PAD> <PAD> <PAD> <PAD> <PAD> <PAD> <PAD> <PAD> <PAD> <PAD> <PAD> <PAD> <PAD> <PAD> <PAD> <PAD> <PAD> <PAD> <PAD> <PAD> <PAD> <PAD> <PAD> <PAD> <PAD> <PAD> <PAD> <PAD> <PAD> <PAD> <PAD> <PAD> <PAD> <PAD> <PAD> <PAD> <PAD> <PAD> <PAD> <PAD> <PAD> <PAD> <PAD> <PAD> <PAD> <PAD> <PAD> <PAD> <PAD> <PAD> <PAD> <PAD> <PAD> <PAD> <PAD> <PAD> <PAD> <PAD> <PAD> <PAD> <PAD> <PAD> <PAD> <PAD> <PAD> <PAD> <PAD> <PAD> <PAD> <PAD> <PAD> <PAD> <PAD> <PAD> <PAD> <PAD> <PAD> <PAD> <PAD> <PAD> <PAD> <PAD> <PAD> <PAD> <PAD> <PAD> <PAD> <PAD> <PAD> <PAD> <PAD> <PAD> <PAD> <PAD> <PAD> <PAD> <START> how did such a terrible script manage to attract this cast ridiculous predictable and thoroughly unbelievable this is well acted and <UNK> directed but the material is so bad it still qualifies as one of the all time worst thrillers i've seen in years amazingly bad and not in a fun way avoid at all costs even if you're a fan of someone in the cast\n",
            "=================================================\n",
            "Sample = 19311 | Length = 200\n",
            "=================================================\n",
            "<PAD> <PAD> <PAD> <PAD> <PAD> <PAD> <PAD> <PAD> <PAD> <PAD> <PAD> <PAD> <PAD> <PAD> <PAD> <PAD> <PAD> <PAD> <PAD> <PAD> <PAD> <PAD> <PAD> <PAD> <PAD> <PAD> <PAD> <PAD> <PAD> <PAD> <PAD> <PAD> <PAD> <PAD> <PAD> <PAD> <PAD> <PAD> <PAD> <PAD> <PAD> <PAD> <PAD> <PAD> <PAD> <PAD> <PAD> <PAD> <PAD> <PAD> <PAD> <PAD> <PAD> <PAD> <PAD> <PAD> <PAD> <PAD> <PAD> <PAD> <PAD> <PAD> <PAD> <PAD> <PAD> <PAD> <PAD> <PAD> <PAD> <PAD> <PAD> <PAD> <PAD> <PAD> <PAD> <PAD> <PAD> <START> a great 90's flick parker posey is fabulous in this story about the <UNK> in manhattan that requires so much cash posey gives an amazing performance as a <UNK> and a night <UNK> this is a good light movie for saturday night before you go out the soundtrack rocks the outfits are out of this world the script is funny and the actors do a great job the redeeming value you can make it in this world if you try just find your <UNK> i believe parker posey is the perfect actress for this kind of character young fabulous and broke you must look up the movie <UNK> if you watch party girl you are bound to have a good time enjoy\n"
          ]
        }
      ]
    },
    {
      "cell_type": "code",
      "source": [
        "from keras import models, layers\n",
        "from keras.models import Sequential\n",
        "from keras.layers import Dense, Flatten, Embedding\n",
        "from keras import regularizers\n",
        "\n",
        "model = models.Sequential()\n",
        "model.add(Embedding(10000, 15, input_length=200))\n",
        "model.add(Flatten())\n",
        "model.add(Dense(128, activation='relu', kernel_regularizer=regularizers.L1(l1=0.0001)))\n",
        "# model.add(Dense(128, activation='relu', input_shape=(10000,)))\n",
        "model.add(Dense(64, activation='relu', kernel_regularizer=regularizers.L1(l1=0.0001)))\n",
        "# model.add(Dense(64, activation='relu'))\n",
        "model.add(Dense(1, activation='sigmoid'))\n",
        "\n",
        "model.summary()"
      ],
      "metadata": {
        "colab": {
          "base_uri": "https://localhost:8080/"
        },
        "id": "PTbDXBra5j58",
        "outputId": "c0fd9ce7-7dd6-4b6a-9c68-d1be83bdd6dc"
      },
      "execution_count": null,
      "outputs": [
        {
          "output_type": "stream",
          "name": "stdout",
          "text": [
            "Model: \"sequential_2\"\n",
            "_________________________________________________________________\n",
            " Layer (type)                Output Shape              Param #   \n",
            "=================================================================\n",
            " embedding_2 (Embedding)     (None, 200, 15)           150000    \n",
            "                                                                 \n",
            " flatten_2 (Flatten)         (None, 3000)              0         \n",
            "                                                                 \n",
            " dense_6 (Dense)             (None, 128)               384128    \n",
            "                                                                 \n",
            " dense_7 (Dense)             (None, 64)                8256      \n",
            "                                                                 \n",
            " dense_8 (Dense)             (None, 1)                 65        \n",
            "                                                                 \n",
            "=================================================================\n",
            "Total params: 542,449\n",
            "Trainable params: 542,449\n",
            "Non-trainable params: 0\n",
            "_________________________________________________________________\n"
          ]
        }
      ]
    },
    {
      "cell_type": "code",
      "source": [
        "NumEpochs = 20\n",
        "BatchSize = 512\n",
        "\n",
        "model.compile(optimizer='adam', loss='binary_crossentropy', metrics=['acc'])\n",
        "\n",
        "history = model.fit(padded_inputs, y_train, epochs=NumEpochs, batch_size=BatchSize, validation_data=(padded_inputs_test, y_test))"
      ],
      "metadata": {
        "colab": {
          "base_uri": "https://localhost:8080/"
        },
        "id": "zaKWmH1c58ri",
        "outputId": "b07ece8c-38b0-4151-867e-8e0fefe3b62b"
      },
      "execution_count": null,
      "outputs": [
        {
          "output_type": "stream",
          "name": "stdout",
          "text": [
            "Epoch 1/20\n",
            "49/49 [==============================] - 4s 57ms/step - loss: 0.6096 - acc: 0.7888 - val_loss: 0.4791 - val_acc: 0.8480\n",
            "Epoch 2/20\n",
            "49/49 [==============================] - 3s 55ms/step - loss: 0.3797 - acc: 0.8979 - val_loss: 0.4219 - val_acc: 0.8648\n",
            "Epoch 3/20\n",
            "49/49 [==============================] - 3s 68ms/step - loss: 0.2789 - acc: 0.9454 - val_loss: 0.4271 - val_acc: 0.8642\n",
            "Epoch 4/20\n",
            "49/49 [==============================] - 3s 64ms/step - loss: 0.2081 - acc: 0.9743 - val_loss: 0.4428 - val_acc: 0.8640\n",
            "Epoch 5/20\n",
            "49/49 [==============================] - 3s 52ms/step - loss: 0.1527 - acc: 0.9925 - val_loss: 0.4601 - val_acc: 0.8600\n",
            "Epoch 6/20\n",
            "49/49 [==============================] - 3s 52ms/step - loss: 0.1213 - acc: 0.9975 - val_loss: 0.4747 - val_acc: 0.8572\n",
            "Epoch 7/20\n",
            "49/49 [==============================] - 3s 54ms/step - loss: 0.1020 - acc: 0.9994 - val_loss: 0.4829 - val_acc: 0.8534\n",
            "Epoch 8/20\n",
            "49/49 [==============================] - 4s 78ms/step - loss: 0.0896 - acc: 0.9998 - val_loss: 0.4866 - val_acc: 0.8529\n",
            "Epoch 9/20\n",
            "49/49 [==============================] - 3s 52ms/step - loss: 0.0807 - acc: 0.9999 - val_loss: 0.4911 - val_acc: 0.8511\n",
            "Epoch 10/20\n",
            "49/49 [==============================] - 3s 54ms/step - loss: 0.0737 - acc: 1.0000 - val_loss: 0.4951 - val_acc: 0.8494\n",
            "Epoch 11/20\n",
            "49/49 [==============================] - 3s 54ms/step - loss: 0.0682 - acc: 1.0000 - val_loss: 0.5001 - val_acc: 0.8482\n",
            "Epoch 12/20\n",
            "49/49 [==============================] - 4s 73ms/step - loss: 0.0632 - acc: 1.0000 - val_loss: 0.5030 - val_acc: 0.8476\n",
            "Epoch 13/20\n",
            "49/49 [==============================] - 3s 60ms/step - loss: 0.0591 - acc: 1.0000 - val_loss: 0.5080 - val_acc: 0.8460\n",
            "Epoch 14/20\n",
            "49/49 [==============================] - 3s 52ms/step - loss: 0.0554 - acc: 1.0000 - val_loss: 0.5111 - val_acc: 0.8449\n",
            "Epoch 15/20\n",
            "49/49 [==============================] - 3s 53ms/step - loss: 0.0522 - acc: 1.0000 - val_loss: 0.5157 - val_acc: 0.8446\n",
            "Epoch 16/20\n",
            "49/49 [==============================] - 3s 51ms/step - loss: 0.0493 - acc: 1.0000 - val_loss: 0.5180 - val_acc: 0.8434\n",
            "Epoch 17/20\n",
            "49/49 [==============================] - 4s 81ms/step - loss: 0.0467 - acc: 1.0000 - val_loss: 0.5206 - val_acc: 0.8430\n",
            "Epoch 18/20\n",
            "49/49 [==============================] - 3s 54ms/step - loss: 0.0443 - acc: 1.0000 - val_loss: 0.5237 - val_acc: 0.8425\n",
            "Epoch 19/20\n",
            "49/49 [==============================] - 2s 51ms/step - loss: 0.0421 - acc: 1.0000 - val_loss: 0.5265 - val_acc: 0.8415\n",
            "Epoch 20/20\n",
            "49/49 [==============================] - 3s 70ms/step - loss: 0.0401 - acc: 1.0000 - val_loss: 0.5276 - val_acc: 0.8413\n"
          ]
        }
      ]
    },
    {
      "cell_type": "code",
      "source": [
        "results = model.evaluate(padded_inputs_test, y_test)\n",
        "print(\"results \", results[1])"
      ],
      "metadata": {
        "id": "HkE3306E6lYj",
        "colab": {
          "base_uri": "https://localhost:8080/"
        },
        "outputId": "6ea1a108-3edc-4cb4-9f8b-067bb3651750"
      },
      "execution_count": null,
      "outputs": [
        {
          "output_type": "stream",
          "name": "stdout",
          "text": [
            "782/782 [==============================] - 2s 3ms/step - loss: 0.5276 - acc: 0.8413\n",
            "results  0.8412799835205078\n"
          ]
        }
      ]
    },
    {
      "cell_type": "code",
      "source": [
        "import matplotlib.pyplot as plt\n",
        "\n",
        "figure, axis = plt.subplots(1, 2)\n",
        "\n",
        "axis[0].plot(range(len(history.history['acc'])), history.history['acc'], label='acc')\n",
        "axis[0].plot(range(len(history.history['val_acc'])), history.history['val_acc'], label='val_acc')\n",
        "axis[0].set_title(\"Accuracy\")\n",
        "axis[0].legend()\n",
        "\n",
        "axis[1].plot(range(len(history.history['loss'])), history.history['loss'], label='loss')\n",
        "axis[1].plot(range(len(history.history['val_loss'])), history.history['val_loss'], label='val_loss')\n",
        "axis[1].set_title(\"Loss\")\n",
        "axis[1].legend()\n",
        "\n",
        "plt.show()"
      ],
      "metadata": {
        "id": "paKIec1PuY8R",
        "colab": {
          "base_uri": "https://localhost:8080/",
          "height": 452
        },
        "outputId": "dce20ecc-bc7b-44ea-9d1b-1ff396b58586"
      },
      "execution_count": null,
      "outputs": [
        {
          "output_type": "display_data",
          "data": {
            "text/plain": [
              "<Figure size 640x480 with 2 Axes>"
            ],
            "image/png": "[encoded data removed]"
          },
          "metadata": {}
        }
      ]
    }
  ],
  "metadata": {
    "kernelspec": {
      "display_name": "Python 3 (ipykernel)",
      "language": "python",
      "name": "python3"
    },
    "language_info": {
      "codemirror_mode": {
        "name": "ipython",
        "version": 3
      },
      "file_extension": ".py",
      "mimetype": "text/x-python",
      "name": "python",
      "nbconvert_exporter": "python",
      "pygments_lexer": "ipython3",
      "version": "3.9.7"
    },
    "colab": {
      "provenance": []
    }
  },
  "nbformat": 4,
  "nbformat_minor": 0
}